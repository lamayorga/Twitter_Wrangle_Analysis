{
 "cells": [
  {
   "cell_type": "markdown",
   "metadata": {},
   "source": [
    "# Using Twitter API to Wrangle and Analyze WeRateDog Data\n",
    "\n",
    "## Wrangling Report\n",
    "\n",
    "\n",
    "Luisa Mayorga"
   ]
  },
  {
   "cell_type": "markdown",
   "metadata": {},
   "source": [
    "### Gathering Data"
   ]
  },
  {
   "cell_type": "markdown",
   "metadata": {},
   "source": [
    "* The enhanced twitter archive dataset (twitter_archive_enhanced.csv) was provided by Udacity and manually downloaded.\n",
    "* The Twitter API dataset was gathered using Tweepy and stored as a JSON file. Specifically, information about retweet count and favorite count for each tweet was extracted by tweet ID.\n",
    "* The image predictions dataset was programmatically downloaded from Udacity’s server using the requests function (URL = https://d17h27t6h515a5.cloudfront.net/topher/2017/August/599fd2ad_image-predictions/image-predictions.tsv)."
   ]
  },
  {
   "cell_type": "markdown",
   "metadata": {},
   "source": [
    "### Assessing Data"
   ]
  },
  {
   "cell_type": "markdown",
   "metadata": {},
   "source": [
    "The data was visually and programmatically assessed to search for quality and tidiness issues.\n",
    "\n",
    "**The quality issues in each dataset are listed below:**\n",
    "\n",
    "* WeRateDogs Twitter Archive DataFrame: twitter_archive\n",
    "    * 'retweeted_user_id' and 'retweeted_status_id' columns: retweets are present\n",
    "    * 'expanded_urls': tweets and retweets without images\n",
    "    * 'timestamp': not in datetime format\n",
    "    * 'name': 'None' appears 745 times (missing data, but not NaN)\n",
    "    * 'name': some false names (i.e. a, not, O)\n",
    "    * 'tweet_id': int should be object since no calculation necessary\n",
    "    * 'text' and 'rating_numerator': tweets include more than one rating and or decimal numbers leading to incorrect or missing data in 'rating_numerator' and 'rating_denominator' columns\n",
    "    * 'doggo', 'floofer', 'pupper', and 'puppo': no dog \"stage\" information for 1,976 IDs\n",
    "    * 'doggo', 'floofer', 'pupper', and 'puppo': some IDs have two dog ratings, more than one dog \"stage\"\n",
    "    * 'rating_numerator and 'rating_denominator': missing columns\n",
    "    * 'source': link makes user source unclear (i.e. Tweeter for iPhone, Web Client, TweetDeck)\n",
    "* Image Prediction DataFrame: predictions\n",
    "    * 'p1', 'p2', 'p3' columns: inconsistency with upper and lowercase\n",
    "    * 'tweet_id': int should be obj since no calculation needed\n",
    "    * 'img_num': does not contain any additional information\n",
    "\n",
    "* Twitter API DataFrame: twitter_add_info\n",
    "    * 'tweet_id' column: int should be obj since no calculation needed\n",
    "\n",
    "**The tidiness issues in each dataset can be found below:**\n",
    "\n",
    "* twitter_archive: 'doggo', 'floofer', 'pupper', and 'puppo' represent one variable, \"stage\", and can be condensed to a single column\n",
    "* predictions: prediction confidence intervals can be condensed into one column\n",
    "* predictions: dog breed prediction could be condensed into one column\n",
    "* predictions: 'breed_pred', 'pred_confidence', and 'jpg_url' can be joined to twitter_archive DataFrame\n",
    "* twitter_add_info: 'favorite_count' and 'retweet_count' can be joined to twitter_archive DataFrame"
   ]
  },
  {
   "cell_type": "markdown",
   "metadata": {},
   "source": [
    "### Cleaning Data"
   ]
  },
  {
   "cell_type": "markdown",
   "metadata": {},
   "source": [
    "Copies of the datasets were made prior to cleaning. The issues were then approached programmatically. Missing/wrong data quality issues were assessed first. Issues that were closely related were fixed in one cleaning step; others required a multi-step process. One manual change was made for changing the dog stage since the written code did not work for this instance. The written code did not register the change in this instance due to the order of words (i.e. if doggo occurs before pupper, the dog stage will be doggo even if pupper is the intended dog stage). Since doggo was only viewed as a part of the word “didodoggo”, the algorithm skipped over this exception. This was the only case of a manual change. Tidiness issues were then addressed, datasets were merged, and the remaining quality issues were fixed."
   ]
  },
  {
   "cell_type": "markdown",
   "metadata": {},
   "source": [
    "### Storing Data"
   ]
  },
  {
   "cell_type": "markdown",
   "metadata": {},
   "source": [
    "The final, cleaned dataset was stored as a csv file using:\n",
    "complete_df_clean.to_csv(‘twitter_archive_master.csv’, encoding=’utf-8, index=False)"
   ]
  },
  {
   "cell_type": "code",
   "execution_count": null,
   "metadata": {},
   "outputs": [],
   "source": []
  }
 ],
 "metadata": {
  "kernelspec": {
   "display_name": "Python 3",
   "language": "python",
   "name": "python3"
  },
  "language_info": {
   "codemirror_mode": {
    "name": "ipython",
    "version": 3
   },
   "file_extension": ".py",
   "mimetype": "text/x-python",
   "name": "python",
   "nbconvert_exporter": "python",
   "pygments_lexer": "ipython3",
   "version": "3.7.6"
  }
 },
 "nbformat": 4,
 "nbformat_minor": 2
}
